{
 "cells": [
  {
   "cell_type": "code",
   "execution_count": 64,
   "id": "01bfa700",
   "metadata": {},
   "outputs": [
    {
     "name": "stdout",
     "output_type": "stream",
     "text": [
      "Guess the number between 1 and 20: 5\n",
      "Sorry, guess again. Number is too low.\n",
      "Guess the number between 1 and 20: 6\n",
      "Sorry, guess again. Number is too low.\n",
      "Guess the number between 1 and 20: 7\n",
      "Sorry, guess again. Number is too low.\n",
      "Guess the number between 1 and 20: 8\n",
      "Congratulations! You guessed the number correctly.\n"
     ]
    }
   ],
   "source": [
    "import random\n",
    "\n",
    "def guess(x):\n",
    "    random_number = random.randint(1, x)\n",
    "    guess = 0\n",
    "    \n",
    "    while guess != random_number:\n",
    "        guess = int(input(f'Guess the number between 1 and {x}: '))\n",
    "        if guess > random_number:\n",
    "            print('Sorry, guess again. Number is too high.')\n",
    "        elif guess < random_number:\n",
    "            print('Sorry, guess again. Number is too low.')\n",
    "    \n",
    "    print('Congratulations! You guessed the number correctly.')\n",
    "\n",
    "guess(20)"
   ]
  },
  {
   "cell_type": "code",
   "execution_count": 62,
   "id": "841ff161",
   "metadata": {},
   "outputs": [
    {
     "name": "stdout",
     "output_type": "stream",
     "text": [
      "Is 4 too high (H), too low (L), or correct (C)? l\n",
      "Is 5 too high (H), too low (L), or correct (C)? l\n",
      "Is 6 too high (H), too low (L), or correct (C)? c\n",
      "Congrats, the computer guessed the number correctly!\n"
     ]
    }
   ],
   "source": [
    "\n",
    "\n",
    "def computer_guess(x):\n",
    "    low = 1\n",
    "    high = x\n",
    "    feedback = ''\n",
    "    \n",
    "    while feedback != 'c':\n",
    "        if low != high:\n",
    "            guess = random.randint(low, high)\n",
    "        else:\n",
    "            guess = low\n",
    "        feedback = input(f'Is {guess} too high (H), too low (L), or correct (C)? ').lower()\n",
    "        if feedback == \"h\":\n",
    "            high = guess - 1\n",
    "        elif feedback == \"l\":\n",
    "            low = guess + 1\n",
    "        \n",
    "    print(\"Congrats, the computer guessed the number correctly!\")\n",
    "\n",
    "computer_guess(10)"
   ]
  }
 ],
 "metadata": {
  "kernelspec": {
   "display_name": "Python 3 (ipykernel)",
   "language": "python",
   "name": "python3"
  },
  "language_info": {
   "codemirror_mode": {
    "name": "ipython",
    "version": 3
   },
   "file_extension": ".py",
   "mimetype": "text/x-python",
   "name": "python",
   "nbconvert_exporter": "python",
   "pygments_lexer": "ipython3",
   "version": "3.11.5"
  }
 },
 "nbformat": 4,
 "nbformat_minor": 5
}
